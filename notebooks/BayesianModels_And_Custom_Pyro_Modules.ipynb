{
 "cells": [
  {
   "cell_type": "code",
   "execution_count": 3,
   "metadata": {},
   "outputs": [],
   "source": [
    "import sys\n",
    "sys.path.insert(0,'..')"
   ]
  },
  {
   "cell_type": "code",
   "execution_count": 4,
   "metadata": {},
   "outputs": [
    {
     "name": "stderr",
     "output_type": "stream",
     "text": [
      "/home/ypq/anaconda3/envs/GD/lib/python3.9/site-packages/torchvision/io/image.py:13: UserWarning: Failed to load image Python extension: /home/ypq/anaconda3/envs/GD/lib/python3.9/site-packages/torchvision/image.so: undefined symbol: _ZN5torch3jit17parseSchemaOrNameERKNSt7__cxx1112basic_stringIcSt11char_traitsIcESaIcEEE\n",
      "  warn(f\"Failed to load image Python extension: {e}\")\n"
     ]
    }
   ],
   "source": [
    "import torch\n",
    "import numpy as np\n",
    "\n",
    "import priors\n",
    "from train import train, get_weighted_single_eval_pos_sampler\n",
    "import encoders\n",
    "import positional_encodings\n",
    "import utils\n",
    "import bar_distribution\n",
    "import decoders\n",
    "from datasets import *\n",
    "import os\n",
    "\n",
    "from tqdm import tqdm\n",
    "import time\n",
    "\n",
    "import torch\n",
    "import pandas as pd\n",
    "import numpy as np\n",
    "import matplotlib.pyplot as plt\n",
    "import pyro.distributions as dist\n",
    "\n",
    "import torch.nn as nn\n",
    "import os.path\n",
    "import glob\n",
    "\n",
    "from mcmc_svi_transformer_on_bayesian import get_model, get_default_model_spec, generate_toy_data, load_results, plot_with_confidence_intervals, training_steps, training_samples, get_default_evaluation_points, compute_mean_and_conf_interval, eval_transformer\n",
    "from pyro.nn import PyroModule, PyroParam, PyroSample\n",
    "import pyro\n",
    "import pyro.contrib.gp as gp\n",
    "import pyro.distributions as dist\n",
    "import pdb\n",
    "import scienceplots"
   ]
  },
  {
   "cell_type": "code",
   "execution_count": 6,
   "metadata": {},
   "outputs": [],
   "source": [
    "%load_ext autoreload\n",
    "\n",
    "%autoreload 2"
   ]
  },
  {
   "cell_type": "code",
   "execution_count": 7,
   "metadata": {},
   "outputs": [],
   "source": [
    "## DEFINE A PRIOR MODEL ##\n",
    "# We define a Bayesian Model as a prior for all methods\n",
    "# This can be replaced by other models that inherit from PyroModule.\n",
    "class BayesianModel(PyroModule):\n",
    "    def __init__(self, model_spec, device='cuda'):\n",
    "        super().__init__()\n",
    "\n",
    "        self.device = device\n",
    "        self.num_features = model_spec['num_features']\n",
    "\n",
    "        mu, sigma = torch.tensor([0.0]).to(self.device), torch.tensor([1.0]).to(self.device)\n",
    "\n",
    "        self.fc1 = PyroModule[nn.Linear](self.num_features, model_spec['embed'])\n",
    "        self.fc1.weight = PyroSample(\n",
    "            dist.Normal(mu, sigma).expand([model_spec['embed'], self.num_features]).to_event(2))\n",
    "        self.fc1.bias = PyroSample(dist.Normal(mu, sigma).expand([model_spec['embed']]).to_event(1))\n",
    "\n",
    "        self.fc2 = PyroModule[nn.Linear](model_spec['embed'], 2)\n",
    "        self.fc2.weight = PyroSample(dist.Normal(mu, sigma).expand([2, model_spec['embed']]).to_event(2))\n",
    "        self.fc2.bias = PyroSample(dist.Normal(mu, sigma).expand([2]).to_event(1))\n",
    "\n",
    "        self.model = torch.nn.Sequential(self.fc1, self.fc2)\n",
    "\n",
    "        self.to(self.device)\n",
    "\n",
    "    def forward(self, x=None, y=None, seq_len=1):\n",
    "        if x is None:\n",
    "            with pyro.plate(\"x_plate\", seq_len):\n",
    "                d_ = dist.Normal(torch.tensor([0.0]).to(self.device), torch.tensor([1.0]).to(self.device)).expand(\n",
    "                    [self.num_features]).to_event(1) # sample uniformly from unit cube\n",
    "                x = pyro.sample(\"x\", d_)\n",
    "        out = self.model(x) # [seq_len,feature]\n",
    "        mu = out.squeeze() # [seq_len,feature]\n",
    "        softmax = torch.nn.Softmax(dim=1)\n",
    "        with pyro.plate(\"data\", out.shape[0]):\n",
    "            s = softmax(mu) # [seq_len,feature]\n",
    "            obs = pyro.sample('obs', dist.Categorical(probs=s), obs=y).float() # doing categoration, here 0 or 1\n",
    "\n",
    "        return x, obs"
   ]
  },
  {
   "cell_type": "code",
   "execution_count": 8,
   "metadata": {},
   "outputs": [],
   "source": [
    "import torch\n",
    "import pyro\n",
    "import pyro.distributions as dist\n",
    "from pyro.nn import PyroModule, PyroSample\n",
    "\n",
    "class GPModel(PyroModule):\n",
    "    def __init__(self, model_spec, device='cuda'):\n",
    "        super().__init__()\n",
    "        self.device =device\n",
    "        self.num_features = model_spec['num_features']\n",
    "        self.kernel = gp.kernels.RBF(input_dim=self.num_features, variance=torch.tensor(1.),\n",
    "                        lengthscale=torch.tensor(.6))\n",
    "#         self.gpr = gp.models.GPRegression(X, y, kernel, noise=torch.tensor(1.))\n",
    "        self.to(self.device)\n",
    "\n",
    "    def forward(self, x=None, y=None, seq_len=1):\n",
    "        if x is None:\n",
    "            with pyro.plate(\"x_plate\", seq_len):\n",
    "                d_ = dist.Normal(torch.tensor([0.0]).to(self.device), torch.tensor([1.0]).to(self.device)).expand(\n",
    "                    [self.num_features]).to_event(1) # sample uniformly from unit cube\n",
    "                x = pyro.sample(\"x\", d_)\n",
    "        n = x.shape[0]\n",
    "        with pyro.plate(\"data\", 1):\n",
    "            obs = pyro.sample(\"obs\", dist.MultivariateNormal(torch.zeros(n).to(self.device), self.kernel(x).to(self.device)), obs=y).float()\n",
    "        return x,obs"
   ]
  },
  {
   "cell_type": "code",
   "execution_count": 9,
   "metadata": {},
   "outputs": [],
   "source": [
    "results_directory = '../results' # Where to save results\n",
    "model_spec_size = 'big' # Size of the BNN model to evaluate, also try big\n",
    "bptt = 100 # Number of samples in each dataset\n",
    "\n",
    "# Training samples seen after which to evaluate the methods\n",
    "evaluation_points = [2, 7, 12, 17, 22, 27, 32, 37, 42, 47, 52, 57, 62, 67, 72, 77, 82, 87, 92]\n",
    "model_spec = get_default_model_spec(model_spec_size)\n",
    "\n",
    "# Function which generates a model from the prior\n",
    "model_sampler = lambda : BayesianModel(model_spec, device = device)\n",
    "# model_sampler = lambda : GPModel(model_spec, device = device)\n",
    "\n",
    "global_results = {} # Dict in which to save results\n",
    "task = 'samples' # Task to evaluate, only option is samples, keep fixed"
   ]
  },
  {
   "cell_type": "code",
   "execution_count": 10,
   "metadata": {},
   "outputs": [
    {
     "name": "stdout",
     "output_type": "stream",
     "text": [
      "mkdir: cannot create directory ‘../results’: File exists\r\n"
     ]
    }
   ],
   "source": [
    "!mkdir {results_directory}"
   ]
  },
  {
   "cell_type": "markdown",
   "metadata": {
    "heading_collapsed": true
   },
   "source": [
    "### Evaluate SVI and MCMC"
   ]
  },
  {
   "cell_type": "code",
   "execution_count": 20,
   "metadata": {
    "hidden": true
   },
   "outputs": [],
   "source": [
    "method = 'mcmc'\n",
    "steps = 1\n",
    "device = 'cpu'\n",
    "path_interfix = f'{results_directory}/timing_{model_spec_size}_model_test'"
   ]
  },
  {
   "cell_type": "code",
   "execution_count": 21,
   "metadata": {},
   "outputs": [],
   "source": [
    "test_model = model_sampler()"
   ]
  },
  {
   "cell_type": "code",
   "execution_count": 22,
   "metadata": {
    "hidden": true
   },
   "outputs": [
    {
     "name": "stdout",
     "output_type": "stream",
     "text": [
      "mkdir: cannot create directory ‘../results/timing_big_model_test’: File exists\r\n"
     ]
    }
   ],
   "source": [
    "!mkdir {path_interfix}"
   ]
  },
  {
   "cell_type": "code",
   "execution_count": 23,
   "metadata": {
    "hidden": true,
    "tags": []
   },
   "outputs": [
    {
     "name": "stdout",
     "output_type": "stream",
     "text": [
      "already done 2\n",
      "already done 7\n",
      "already done 12\n",
      "already done 17\n",
      "already done 22\n",
      "already done 27\n",
      "already done 32\n",
      "already done 37\n",
      "already done 42\n",
      "already done 47\n",
      "already done 52\n",
      "already done 57\n",
      "already done 62\n",
      "already done 67\n",
      "already done 72\n",
      "already done 77\n",
      "already done 82\n",
      "already done 87\n",
      "already done 92\n"
     ]
    }
   ],
   "source": [
    "# This evaluates baseline method (SVI or MCMC) with varying number of trainings samples and steps number of inference steps\n",
    "\n",
    "X, y = generate_toy_data(test_model, bptt, device) \n",
    "# X.shape:[100,100,3](num_of_datasets,num_of_points_in_each_dataset,feature) Y.shape:[100,100]\n",
    "\n",
    "training_samples(method\n",
    "                 , X\n",
    "                 , y\n",
    "                 , model_sampler\n",
    "                 , evaluation_points\n",
    "                 , steps=steps\n",
    "                 , device=device\n",
    "                 , path_interfix=path_interfix)"
   ]
  },
  {
   "cell_type": "code",
   "execution_count": 24,
   "metadata": {
    "hidden": true
   },
   "outputs": [],
   "source": [
    "device = 'cuda'"
   ]
  },
  {
   "cell_type": "code",
   "execution_count": 25,
   "metadata": {
    "hidden": true
   },
   "outputs": [],
   "source": [
    "config = {'lr': 2.006434218345026e-05\n",
    " , 'epochs': 160\n",
    " , 'dropout': 0.0\n",
    " , 'emsize': 256\n",
    " , 'batch_size': 256\n",
    " , 'nlayers': 5\n",
    " , 'num_outputs': 1\n",
    " , 'num_features': model_spec['num_features']\n",
    " , 'steps_per_epoch': 100\n",
    " , 'nhead': 4\n",
    " , 'seq_len': model_spec['seq_len']\n",
    " , 'nhid_factor': 2}"
   ]
  },
  {
   "cell_type": "markdown",
   "metadata": {},
   "source": [
    "### Training Transformer on Prior (Skip this step to reuse results)"
   ]
  },
  {
   "cell_type": "code",
   "execution_count": 84,
   "metadata": {
    "hidden": true
   },
   "outputs": [
    {
     "name": "stdout",
     "output_type": "stream",
     "text": [
      "Using cpu:0 device\n",
      "DataLoader.__dict__ {'num_steps': 100, 'fuse_x_y': False, 'get_batch_kwargs': {'batch_size': 256, 'seq_len': 300, 'num_outputs': 1, 'num_features': 3, 'canonical_args': None, 'model': <function <lambda> at 0x7fc4801af9d0>}, 'num_features': 3, 'num_outputs': 1}\n"
     ]
    },
    {
     "ename": "KeyboardInterrupt",
     "evalue": "",
     "output_type": "error",
     "traceback": [
      "\u001b[0;31m---------------------------------------------------------------------------\u001b[0m",
      "\u001b[0;31mKeyboardInterrupt\u001b[0m                         Traceback (most recent call last)",
      "Cell \u001b[0;32mIn[84], line 1\u001b[0m\n\u001b[0;32m----> 1\u001b[0m transformer_model \u001b[38;5;241m=\u001b[39m \u001b[43mget_model\u001b[49m\u001b[43m(\u001b[49m\u001b[43mmodel_sampler\u001b[49m\u001b[43m,\u001b[49m\u001b[43m \u001b[49m\u001b[43mconfig\u001b[49m\u001b[43m,\u001b[49m\u001b[43m \u001b[49m\u001b[43mshould_train\u001b[49m\u001b[43m \u001b[49m\u001b[38;5;241;43m=\u001b[39;49m\u001b[43m \u001b[49m\u001b[38;5;28;43;01mTrue\u001b[39;49;00m\u001b[43m)\u001b[49m\n\u001b[1;32m      2\u001b[0m model_path \u001b[38;5;241m=\u001b[39m os\u001b[38;5;241m.\u001b[39mpath\u001b[38;5;241m.\u001b[39mjoin(results_directory, \u001b[38;5;124mf\u001b[39m\u001b[38;5;124m'\u001b[39m\u001b[38;5;124mbayesian_models_transformer_checkpoint_\u001b[39m\u001b[38;5;132;01m{\u001b[39;00mmodel_spec_size\u001b[38;5;132;01m}\u001b[39;00m\u001b[38;5;124m_epochs_\u001b[39m\u001b[38;5;124m'\u001b[39m\u001b[38;5;241m+\u001b[39mconfig[\u001b[38;5;124m'\u001b[39m\u001b[38;5;124mepochs\u001b[39m\u001b[38;5;124m'\u001b[39m]\u001b[38;5;241m+\u001b[39m\u001b[38;5;124m'\u001b[39m\u001b[38;5;124m.cpkt\u001b[39m\u001b[38;5;124m'\u001b[39m)\n\u001b[1;32m      3\u001b[0m torch\u001b[38;5;241m.\u001b[39msave((transformer_model[\u001b[38;5;241m2\u001b[39m]\u001b[38;5;241m.\u001b[39mstate_dict(), \u001b[38;5;28;01mNone\u001b[39;00m), model_path)\n",
      "File \u001b[0;32m~/TransformersCanDoBayesianInference/notebooks/../mcmc_svi_transformer_on_bayesian.py:89\u001b[0m, in \u001b[0;36mget_model\u001b[0;34m(model_generator, config, should_train, device)\u001b[0m\n\u001b[1;32m     86\u001b[0m \u001b[38;5;28;01mdef\u001b[39;00m \u001b[38;5;21mget_model\u001b[39m(model_generator, config, should_train\u001b[38;5;241m=\u001b[39m\u001b[38;5;28;01mTrue\u001b[39;00m, device\u001b[38;5;241m=\u001b[39m\u001b[38;5;124m'\u001b[39m\u001b[38;5;124mcuda\u001b[39m\u001b[38;5;124m'\u001b[39m):\n\u001b[1;32m     87\u001b[0m     epochs \u001b[38;5;241m=\u001b[39m \u001b[38;5;241m0\u001b[39m \u001b[38;5;28;01mif\u001b[39;00m \u001b[38;5;129;01mnot\u001b[39;00m should_train \u001b[38;5;28;01melse\u001b[39;00m config[\u001b[38;5;124m'\u001b[39m\u001b[38;5;124mepochs\u001b[39m\u001b[38;5;124m'\u001b[39m]\n\u001b[0;32m---> 89\u001b[0m     model \u001b[38;5;241m=\u001b[39m \u001b[43mtrain\u001b[49m\u001b[43m(\u001b[49m\u001b[43mpriors\u001b[49m\u001b[38;5;241;43m.\u001b[39;49m\u001b[43mpyro\u001b[49m\u001b[38;5;241;43m.\u001b[39;49m\u001b[43mDataLoader\u001b[49m\n\u001b[1;32m     90\u001b[0m \u001b[43m                  \u001b[49m\u001b[43m,\u001b[49m\u001b[43m \u001b[49m\u001b[43mLosses\u001b[49m\u001b[38;5;241;43m.\u001b[39;49m\u001b[43mbce\u001b[49m\n\u001b[1;32m     91\u001b[0m \u001b[43m                  \u001b[49m\u001b[43m,\u001b[49m\u001b[43m \u001b[49m\u001b[43mencoders\u001b[49m\u001b[38;5;241;43m.\u001b[39;49m\u001b[43mLinear\u001b[49m\n\u001b[1;32m     92\u001b[0m \u001b[43m                  \u001b[49m\u001b[43m,\u001b[49m\u001b[43m \u001b[49m\u001b[43memsize\u001b[49m\u001b[38;5;241;43m=\u001b[39;49m\u001b[43mconfig\u001b[49m\u001b[43m[\u001b[49m\u001b[38;5;124;43m'\u001b[39;49m\u001b[38;5;124;43memsize\u001b[39;49m\u001b[38;5;124;43m'\u001b[39;49m\u001b[43m]\u001b[49m\n\u001b[1;32m     93\u001b[0m \u001b[43m                  \u001b[49m\u001b[43m,\u001b[49m\u001b[43m \u001b[49m\u001b[43mnhead\u001b[49m\u001b[38;5;241;43m=\u001b[39;49m\u001b[43mconfig\u001b[49m\u001b[43m[\u001b[49m\u001b[38;5;124;43m'\u001b[39;49m\u001b[38;5;124;43mnhead\u001b[39;49m\u001b[38;5;124;43m'\u001b[39;49m\u001b[43m]\u001b[49m\n\u001b[1;32m     94\u001b[0m \u001b[43m                  \u001b[49m\u001b[43m,\u001b[49m\u001b[43m \u001b[49m\u001b[43my_encoder_generator\u001b[49m\u001b[38;5;241;43m=\u001b[39;49m\u001b[43mencoders\u001b[49m\u001b[38;5;241;43m.\u001b[39;49m\u001b[43mLinear\u001b[49m\n\u001b[1;32m     95\u001b[0m \u001b[43m                  \u001b[49m\u001b[43m,\u001b[49m\u001b[43m \u001b[49m\u001b[43mpos_encoder_generator\u001b[49m\u001b[38;5;241;43m=\u001b[39;49m\u001b[38;5;28;43;01mNone\u001b[39;49;00m\n\u001b[1;32m     96\u001b[0m \u001b[43m                  \u001b[49m\u001b[43m,\u001b[49m\u001b[43m \u001b[49m\u001b[43mbatch_size\u001b[49m\u001b[38;5;241;43m=\u001b[39;49m\u001b[43mconfig\u001b[49m\u001b[43m[\u001b[49m\u001b[38;5;124;43m'\u001b[39;49m\u001b[38;5;124;43mbatch_size\u001b[39;49m\u001b[38;5;124;43m'\u001b[39;49m\u001b[43m]\u001b[49m\n\u001b[1;32m     97\u001b[0m \u001b[43m                  \u001b[49m\u001b[43m,\u001b[49m\u001b[43m \u001b[49m\u001b[43mnlayers\u001b[49m\u001b[38;5;241;43m=\u001b[39;49m\u001b[43mconfig\u001b[49m\u001b[43m[\u001b[49m\u001b[38;5;124;43m'\u001b[39;49m\u001b[38;5;124;43mnlayers\u001b[39;49m\u001b[38;5;124;43m'\u001b[39;49m\u001b[43m]\u001b[49m\n\u001b[1;32m     98\u001b[0m \u001b[43m                  \u001b[49m\u001b[43m,\u001b[49m\u001b[43m \u001b[49m\u001b[43mnhid\u001b[49m\u001b[38;5;241;43m=\u001b[39;49m\u001b[43mconfig\u001b[49m\u001b[43m[\u001b[49m\u001b[38;5;124;43m'\u001b[39;49m\u001b[38;5;124;43memsize\u001b[39;49m\u001b[38;5;124;43m'\u001b[39;49m\u001b[43m]\u001b[49m\u001b[43m \u001b[49m\u001b[38;5;241;43m*\u001b[39;49m\u001b[43m \u001b[49m\u001b[43mconfig\u001b[49m\u001b[43m[\u001b[49m\u001b[38;5;124;43m'\u001b[39;49m\u001b[38;5;124;43mnhid_factor\u001b[39;49m\u001b[38;5;124;43m'\u001b[39;49m\u001b[43m]\u001b[49m\n\u001b[1;32m     99\u001b[0m \u001b[43m                  \u001b[49m\u001b[43m,\u001b[49m\u001b[43m \u001b[49m\u001b[43mepochs\u001b[49m\u001b[38;5;241;43m=\u001b[39;49m\u001b[43mepochs\u001b[49m\n\u001b[1;32m    100\u001b[0m \u001b[43m                  \u001b[49m\u001b[43m,\u001b[49m\u001b[43m \u001b[49m\u001b[43mwarmup_epochs\u001b[49m\u001b[38;5;241;43m=\u001b[39;49m\u001b[43mconfig\u001b[49m\u001b[43m[\u001b[49m\u001b[38;5;124;43m'\u001b[39;49m\u001b[38;5;124;43mepochs\u001b[39;49m\u001b[38;5;124;43m'\u001b[39;49m\u001b[43m]\u001b[49m\u001b[43m \u001b[49m\u001b[38;5;241;43m/\u001b[39;49m\u001b[38;5;241;43m/\u001b[39;49m\u001b[43m \u001b[49m\u001b[38;5;241;43m4\u001b[39;49m\n\u001b[1;32m    101\u001b[0m \u001b[43m                  \u001b[49m\u001b[43m,\u001b[49m\u001b[43m \u001b[49m\u001b[43mbptt\u001b[49m\u001b[38;5;241;43m=\u001b[39;49m\u001b[43mconfig\u001b[49m\u001b[43m[\u001b[49m\u001b[38;5;124;43m'\u001b[39;49m\u001b[38;5;124;43mseq_len\u001b[39;49m\u001b[38;5;124;43m'\u001b[39;49m\u001b[43m]\u001b[49m\n\u001b[1;32m    102\u001b[0m \u001b[43m                  \u001b[49m\u001b[43m,\u001b[49m\u001b[43m \u001b[49m\u001b[43mgpu_device\u001b[49m\u001b[38;5;241;43m=\u001b[39;49m\u001b[43mdevice\u001b[49m\n\u001b[1;32m    103\u001b[0m \u001b[43m                  \u001b[49m\u001b[43m,\u001b[49m\u001b[43m \u001b[49m\u001b[43mdropout\u001b[49m\u001b[38;5;241;43m=\u001b[39;49m\u001b[43mconfig\u001b[49m\u001b[43m[\u001b[49m\u001b[38;5;124;43m'\u001b[39;49m\u001b[38;5;124;43mdropout\u001b[39;49m\u001b[38;5;124;43m'\u001b[39;49m\u001b[43m]\u001b[49m\n\u001b[1;32m    104\u001b[0m \u001b[43m                  \u001b[49m\u001b[43m,\u001b[49m\u001b[43m \u001b[49m\u001b[43msteps_per_epoch\u001b[49m\u001b[38;5;241;43m=\u001b[39;49m\u001b[43mconfig\u001b[49m\u001b[43m[\u001b[49m\u001b[38;5;124;43m'\u001b[39;49m\u001b[38;5;124;43msteps_per_epoch\u001b[39;49m\u001b[38;5;124;43m'\u001b[39;49m\u001b[43m]\u001b[49m\n\u001b[1;32m    105\u001b[0m \u001b[43m                  \u001b[49m\u001b[43m,\u001b[49m\u001b[43m \u001b[49m\u001b[43msingle_eval_pos_gen\u001b[49m\u001b[38;5;241;43m=\u001b[39;49m\u001b[43mget_weighted_single_eval_pos_sampler\u001b[49m\u001b[43m(\u001b[49m\u001b[38;5;241;43m100\u001b[39;49m\u001b[43m)\u001b[49m\n\u001b[1;32m    106\u001b[0m \u001b[43m                  \u001b[49m\u001b[43m,\u001b[49m\u001b[43m \u001b[49m\u001b[43mextra_prior_kwargs_dict\u001b[49m\u001b[38;5;241;43m=\u001b[39;49m\u001b[43m{\u001b[49m\n\u001b[1;32m    107\u001b[0m \u001b[43m            \u001b[49m\u001b[38;5;124;43m'\u001b[39;49m\u001b[38;5;124;43mnum_outputs\u001b[39;49m\u001b[38;5;124;43m'\u001b[39;49m\u001b[43m:\u001b[49m\u001b[43m \u001b[49m\u001b[43mconfig\u001b[49m\u001b[43m[\u001b[49m\u001b[38;5;124;43m'\u001b[39;49m\u001b[38;5;124;43mnum_outputs\u001b[39;49m\u001b[38;5;124;43m'\u001b[39;49m\u001b[43m]\u001b[49m\n\u001b[1;32m    108\u001b[0m \u001b[43m            \u001b[49m\u001b[43m,\u001b[49m\u001b[43m \u001b[49m\u001b[38;5;124;43m'\u001b[39;49m\u001b[38;5;124;43mnum_features\u001b[39;49m\u001b[38;5;124;43m'\u001b[39;49m\u001b[43m:\u001b[49m\u001b[43m \u001b[49m\u001b[43mconfig\u001b[49m\u001b[43m[\u001b[49m\u001b[38;5;124;43m'\u001b[39;49m\u001b[38;5;124;43mnum_features\u001b[39;49m\u001b[38;5;124;43m'\u001b[39;49m\u001b[43m]\u001b[49m\n\u001b[1;32m    109\u001b[0m \u001b[43m            \u001b[49m\u001b[43m,\u001b[49m\u001b[43m \u001b[49m\u001b[38;5;124;43m'\u001b[39;49m\u001b[38;5;124;43mcanonical_args\u001b[39;49m\u001b[38;5;124;43m'\u001b[39;49m\u001b[43m:\u001b[49m\u001b[43m \u001b[49m\u001b[38;5;28;43;01mNone\u001b[39;49;00m\n\u001b[1;32m    110\u001b[0m \u001b[43m            \u001b[49m\u001b[43m,\u001b[49m\u001b[43m \u001b[49m\u001b[38;5;124;43m'\u001b[39;49m\u001b[38;5;124;43mfuse_x_y\u001b[39;49m\u001b[38;5;124;43m'\u001b[39;49m\u001b[43m:\u001b[49m\u001b[43m \u001b[49m\u001b[38;5;28;43;01mFalse\u001b[39;49;00m\n\u001b[1;32m    111\u001b[0m \u001b[43m            \u001b[49m\u001b[43m,\u001b[49m\u001b[43m \u001b[49m\u001b[38;5;124;43m'\u001b[39;49m\u001b[38;5;124;43mmodel\u001b[39;49m\u001b[38;5;124;43m'\u001b[39;49m\u001b[43m:\u001b[49m\u001b[43m \u001b[49m\u001b[43mmodel_generator\u001b[49m\n\u001b[1;32m    112\u001b[0m \u001b[43m        \u001b[49m\u001b[43m}\u001b[49m\n\u001b[1;32m    113\u001b[0m \u001b[43m                  \u001b[49m\u001b[43m,\u001b[49m\u001b[43m \u001b[49m\u001b[43mlr\u001b[49m\u001b[38;5;241;43m=\u001b[39;49m\u001b[43mconfig\u001b[49m\u001b[43m[\u001b[49m\u001b[38;5;124;43m'\u001b[39;49m\u001b[38;5;124;43mlr\u001b[39;49m\u001b[38;5;124;43m'\u001b[39;49m\u001b[43m]\u001b[49m\n\u001b[1;32m    114\u001b[0m \u001b[43m                  \u001b[49m\u001b[43m,\u001b[49m\u001b[43m \u001b[49m\u001b[43mverbose\u001b[49m\u001b[38;5;241;43m=\u001b[39;49m\u001b[38;5;28;43;01mTrue\u001b[39;49;00m\u001b[43m)\u001b[49m\n\u001b[1;32m    116\u001b[0m     \u001b[38;5;28;01mreturn\u001b[39;00m model\n",
      "File \u001b[0;32m~/TransformersCanDoBayesianInference/notebooks/../train.py:118\u001b[0m, in \u001b[0;36mtrain\u001b[0;34m(priordataloader_class, criterion, encoder_generator, emsize, nhid, nlayers, nhead, dropout, epochs, steps_per_epoch, batch_size, bptt, lr, warmup_epochs, input_normalization, y_encoder_generator, pos_encoder_generator, decoder, extra_prior_kwargs_dict, scheduler, load_weights_from_this_state_dict, validation_period, single_eval_pos_gen, gpu_device, aggregate_k_gradients, verbose)\u001b[0m\n\u001b[1;32m    116\u001b[0m \u001b[38;5;28;01mfor\u001b[39;00m epoch \u001b[38;5;129;01min\u001b[39;00m \u001b[38;5;28mrange\u001b[39m(\u001b[38;5;241m1\u001b[39m, epochs \u001b[38;5;241m+\u001b[39m \u001b[38;5;241m1\u001b[39m):\n\u001b[1;32m    117\u001b[0m     epoch_start_time \u001b[38;5;241m=\u001b[39m time\u001b[38;5;241m.\u001b[39mtime()\n\u001b[0;32m--> 118\u001b[0m     total_loss, total_positional_losses, time_to_get_batch, forward_time, step_time \u001b[38;5;241m=\u001b[39m \u001b[43mtrain\u001b[49m\u001b[43m(\u001b[49m\u001b[43m)\u001b[49m\n\u001b[1;32m    119\u001b[0m     \u001b[38;5;28;01mif\u001b[39;00m \u001b[38;5;28mhasattr\u001b[39m(dl, \u001b[38;5;124m'\u001b[39m\u001b[38;5;124mvalidate\u001b[39m\u001b[38;5;124m'\u001b[39m) \u001b[38;5;129;01mand\u001b[39;00m epoch \u001b[38;5;241m%\u001b[39m validation_period \u001b[38;5;241m==\u001b[39m \u001b[38;5;241m0\u001b[39m:\n\u001b[1;32m    120\u001b[0m         \u001b[38;5;28;01mwith\u001b[39;00m torch\u001b[38;5;241m.\u001b[39mno_grad():\n",
      "File \u001b[0;32m~/TransformersCanDoBayesianInference/notebooks/../train.py:93\u001b[0m, in \u001b[0;36mtrain.<locals>.train\u001b[0;34m()\u001b[0m\n\u001b[1;32m     89\u001b[0m losses \u001b[38;5;241m=\u001b[39m losses\u001b[38;5;241m.\u001b[39mview(\u001b[38;5;241m*\u001b[39moutput\u001b[38;5;241m.\u001b[39mshape[\u001b[38;5;241m0\u001b[39m:\u001b[38;5;241m2\u001b[39m])\u001b[38;5;241m.\u001b[39msqueeze(\u001b[38;5;241m-\u001b[39m\u001b[38;5;241m1\u001b[39m)\n\u001b[1;32m     92\u001b[0m loss \u001b[38;5;241m=\u001b[39m losses\u001b[38;5;241m.\u001b[39mmean()\n\u001b[0;32m---> 93\u001b[0m \u001b[43mloss\u001b[49m\u001b[38;5;241;43m.\u001b[39;49m\u001b[43mbackward\u001b[49m\u001b[43m(\u001b[49m\u001b[43m)\u001b[49m\n\u001b[1;32m     94\u001b[0m \u001b[38;5;28;01mif\u001b[39;00m batch \u001b[38;5;241m%\u001b[39m aggregate_k_gradients \u001b[38;5;241m==\u001b[39m aggregate_k_gradients \u001b[38;5;241m-\u001b[39m \u001b[38;5;241m1\u001b[39m:\n\u001b[1;32m     95\u001b[0m     torch\u001b[38;5;241m.\u001b[39mnn\u001b[38;5;241m.\u001b[39mutils\u001b[38;5;241m.\u001b[39mclip_grad_norm_(model\u001b[38;5;241m.\u001b[39mparameters(), \u001b[38;5;241m1.\u001b[39m)\n",
      "File \u001b[0;32m~/anaconda3/envs/GD/lib/python3.9/site-packages/torch/_tensor.py:488\u001b[0m, in \u001b[0;36mTensor.backward\u001b[0;34m(self, gradient, retain_graph, create_graph, inputs)\u001b[0m\n\u001b[1;32m    478\u001b[0m \u001b[38;5;28;01mif\u001b[39;00m has_torch_function_unary(\u001b[38;5;28mself\u001b[39m):\n\u001b[1;32m    479\u001b[0m     \u001b[38;5;28;01mreturn\u001b[39;00m handle_torch_function(\n\u001b[1;32m    480\u001b[0m         Tensor\u001b[38;5;241m.\u001b[39mbackward,\n\u001b[1;32m    481\u001b[0m         (\u001b[38;5;28mself\u001b[39m,),\n\u001b[0;32m   (...)\u001b[0m\n\u001b[1;32m    486\u001b[0m         inputs\u001b[38;5;241m=\u001b[39minputs,\n\u001b[1;32m    487\u001b[0m     )\n\u001b[0;32m--> 488\u001b[0m \u001b[43mtorch\u001b[49m\u001b[38;5;241;43m.\u001b[39;49m\u001b[43mautograd\u001b[49m\u001b[38;5;241;43m.\u001b[39;49m\u001b[43mbackward\u001b[49m\u001b[43m(\u001b[49m\n\u001b[1;32m    489\u001b[0m \u001b[43m    \u001b[49m\u001b[38;5;28;43mself\u001b[39;49m\u001b[43m,\u001b[49m\u001b[43m \u001b[49m\u001b[43mgradient\u001b[49m\u001b[43m,\u001b[49m\u001b[43m \u001b[49m\u001b[43mretain_graph\u001b[49m\u001b[43m,\u001b[49m\u001b[43m \u001b[49m\u001b[43mcreate_graph\u001b[49m\u001b[43m,\u001b[49m\u001b[43m \u001b[49m\u001b[43minputs\u001b[49m\u001b[38;5;241;43m=\u001b[39;49m\u001b[43minputs\u001b[49m\n\u001b[1;32m    490\u001b[0m \u001b[43m\u001b[49m\u001b[43m)\u001b[49m\n",
      "File \u001b[0;32m~/anaconda3/envs/GD/lib/python3.9/site-packages/torch/autograd/__init__.py:197\u001b[0m, in \u001b[0;36mbackward\u001b[0;34m(tensors, grad_tensors, retain_graph, create_graph, grad_variables, inputs)\u001b[0m\n\u001b[1;32m    192\u001b[0m     retain_graph \u001b[38;5;241m=\u001b[39m create_graph\n\u001b[1;32m    194\u001b[0m \u001b[38;5;66;03m# The reason we repeat same the comment below is that\u001b[39;00m\n\u001b[1;32m    195\u001b[0m \u001b[38;5;66;03m# some Python versions print out the first line of a multi-line function\u001b[39;00m\n\u001b[1;32m    196\u001b[0m \u001b[38;5;66;03m# calls in the traceback and some print out the last line\u001b[39;00m\n\u001b[0;32m--> 197\u001b[0m \u001b[43mVariable\u001b[49m\u001b[38;5;241;43m.\u001b[39;49m\u001b[43m_execution_engine\u001b[49m\u001b[38;5;241;43m.\u001b[39;49m\u001b[43mrun_backward\u001b[49m\u001b[43m(\u001b[49m\u001b[43m  \u001b[49m\u001b[38;5;66;43;03m# Calls into the C++ engine to run the backward pass\u001b[39;49;00m\n\u001b[1;32m    198\u001b[0m \u001b[43m    \u001b[49m\u001b[43mtensors\u001b[49m\u001b[43m,\u001b[49m\u001b[43m \u001b[49m\u001b[43mgrad_tensors_\u001b[49m\u001b[43m,\u001b[49m\u001b[43m \u001b[49m\u001b[43mretain_graph\u001b[49m\u001b[43m,\u001b[49m\u001b[43m \u001b[49m\u001b[43mcreate_graph\u001b[49m\u001b[43m,\u001b[49m\u001b[43m \u001b[49m\u001b[43minputs\u001b[49m\u001b[43m,\u001b[49m\n\u001b[1;32m    199\u001b[0m \u001b[43m    \u001b[49m\u001b[43mallow_unreachable\u001b[49m\u001b[38;5;241;43m=\u001b[39;49m\u001b[38;5;28;43;01mTrue\u001b[39;49;00m\u001b[43m,\u001b[49m\u001b[43m \u001b[49m\u001b[43maccumulate_grad\u001b[49m\u001b[38;5;241;43m=\u001b[39;49m\u001b[38;5;28;43;01mTrue\u001b[39;49;00m\u001b[43m)\u001b[49m\n",
      "\u001b[0;31mKeyboardInterrupt\u001b[0m: "
     ]
    }
   ],
   "source": [
    "transformer_model = get_model(model_sampler, config, should_train = True)\n",
    "model_path = os.path.join(results_directory, f'bayesian_models_transformer_checkpoint_{model_spec_size}_epochs_'+config['epochs']+'.cpkt')\n",
    "torch.save((transformer_model[2].state_dict(), None), model_path)\n"
   ]
  },
  {
   "cell_type": "markdown",
   "metadata": {},
   "source": [
    "### Evaluating Transformer"
   ]
  },
  {
   "cell_type": "code",
   "execution_count": 26,
   "metadata": {},
   "outputs": [
    {
     "name": "stdout",
     "output_type": "stream",
     "text": [
      "Using cuda device\n",
      "DataLoader.__dict__ {'num_steps': 100, 'fuse_x_y': False, 'get_batch_kwargs': {'batch_size': 256, 'seq_len': 300, 'num_outputs': 1, 'num_features': 8, 'canonical_args': None, 'model': <function <lambda> at 0x7f5c992e1310>}, 'num_features': 8, 'num_outputs': 1}\n"
     ]
    },
    {
     "name": "stderr",
     "output_type": "stream",
     "text": [
      "0it [00:00, ?it/s]\n"
     ]
    },
    {
     "data": {
      "text/plain": [
       "<All keys matched successfully>"
      ]
     },
     "execution_count": 26,
     "metadata": {},
     "output_type": "execute_result"
    }
   ],
   "source": [
    "loaded_epoch = config['epochs']\n",
    "transformer_model = get_model(model_sampler, config, should_train = False)\n",
    "path = os.path.join(results_directory, f'bayesian_models_transformer_checkpoint_{model_spec_size}_epochs_{loaded_epoch}.cpkt')\n",
    "model_state, optimizer_state = torch.load(path)\n",
    "transformer_model[2].load_state_dict(model_state)"
   ]
  },
  {
   "cell_type": "code",
   "execution_count": 27,
   "metadata": {},
   "outputs": [],
   "source": [
    "X, y = generate_toy_data(test_model, bptt, device)"
   ]
  },
  {
   "cell_type": "code",
   "execution_count": 28,
   "metadata": {},
   "outputs": [
    {
     "name": "stdout",
     "output_type": "stream",
     "text": [
      "2\n",
      "7\n",
      "12\n",
      "17\n",
      "22\n",
      "27\n",
      "32\n",
      "37\n",
      "42\n",
      "47\n",
      "52\n",
      "57\n",
      "62\n",
      "67\n",
      "72\n",
      "77\n",
      "82\n",
      "87\n",
      "92\n"
     ]
    }
   ],
   "source": [
    "results_acc = []\n",
    "results_nll = []\n",
    "transformer_model[2].eval()\n",
    "for training_samples_n in evaluation_points:\n",
    "    print(training_samples_n)\n",
    "    acc, nll, elapsed = eval_transformer(X, y, model=transformer_model[2], training_samples_n=training_samples_n, device=device)\n",
    "    results_acc.append(acc)\n",
    "    results_nll.append(nll)\n",
    "mean = np.array([compute_mean_and_conf_interval(nll)[0] for nll in results_nll])\n",
    "conf = np.array([compute_mean_and_conf_interval(nll)[1] for nll in results_nll])\n",
    "global_results['transformer'] = (None, np.array(evaluation_points), mean, conf)\n"
   ]
  },
  {
   "cell_type": "markdown",
   "metadata": {},
   "source": [
    "## Plotting results"
   ]
  },
  {
   "cell_type": "code",
   "execution_count": 11,
   "metadata": {},
   "outputs": [
    {
     "name": "stdout",
     "output_type": "stream",
     "text": [
      "../results/timing_big_model_test/results_svi_1_training_samples_2.npy\n",
      "../results/timing_big_model_test/results_svi_1_training_samples_7.npy\n",
      "../results/timing_big_model_test/results_svi_1_training_samples_12.npy\n",
      "../results/timing_big_model_test/results_svi_1_training_samples_17.npy\n",
      "../results/timing_big_model_test/results_svi_1_training_samples_22.npy\n",
      "../results/timing_big_model_test/results_svi_1_training_samples_27.npy\n",
      "../results/timing_big_model_test/results_svi_1_training_samples_32.npy\n",
      "../results/timing_big_model_test/results_svi_1_training_samples_37.npy\n",
      "../results/timing_big_model_test/results_svi_1_training_samples_42.npy\n",
      "../results/timing_big_model_test/results_svi_1_training_samples_47.npy\n",
      "../results/timing_big_model_test/results_svi_1_training_samples_52.npy\n",
      "../results/timing_big_model_test/results_svi_1_training_samples_57.npy\n",
      "../results/timing_big_model_test/results_svi_1_training_samples_62.npy\n",
      "../results/timing_big_model_test/results_svi_1_training_samples_67.npy\n",
      "../results/timing_big_model_test/results_svi_1_training_samples_72.npy\n",
      "../results/timing_big_model_test/results_svi_1_training_samples_77.npy\n",
      "../results/timing_big_model_test/results_svi_1_training_samples_82.npy\n",
      "../results/timing_big_model_test/results_svi_1_training_samples_87.npy\n",
      "../results/timing_big_model_test/results_svi_1_training_samples_92.npy\n",
      "../results/timing_big_model_test/results_mcmc_1_training_samples_2.npy\n",
      "../results/timing_big_model_test/results_mcmc_1_training_samples_7.npy\n",
      "../results/timing_big_model_test/results_mcmc_1_training_samples_12.npy\n",
      "../results/timing_big_model_test/results_mcmc_1_training_samples_17.npy\n",
      "../results/timing_big_model_test/results_mcmc_1_training_samples_22.npy\n",
      "../results/timing_big_model_test/results_mcmc_1_training_samples_27.npy\n",
      "../results/timing_big_model_test/results_mcmc_1_training_samples_32.npy\n",
      "../results/timing_big_model_test/results_mcmc_1_training_samples_37.npy\n",
      "../results/timing_big_model_test/results_mcmc_1_training_samples_42.npy\n",
      "../results/timing_big_model_test/results_mcmc_1_training_samples_47.npy\n",
      "../results/timing_big_model_test/results_mcmc_1_training_samples_52.npy\n",
      "../results/timing_big_model_test/results_mcmc_1_training_samples_57.npy\n",
      "../results/timing_big_model_test/results_mcmc_1_training_samples_62.npy\n",
      "../results/timing_big_model_test/results_mcmc_1_training_samples_67.npy\n",
      "../results/timing_big_model_test/results_mcmc_1_training_samples_72.npy\n",
      "../results/timing_big_model_test/results_mcmc_1_training_samples_77.npy\n",
      "../results/timing_big_model_test/results_mcmc_1_training_samples_82.npy\n",
      "../results/timing_big_model_test/results_mcmc_1_training_samples_87.npy\n",
      "../results/timing_big_model_test/results_mcmc_1_training_samples_92.npy\n"
     ]
    }
   ],
   "source": [
    "files, times, samples, mean, conf = load_results(f'{results_directory}/timing_{model_spec_size}_model_test/results_svi_1_training_{task}', task=task)\n",
    "global_results['svi'] = (times/100, samples, mean/20, conf/30) # original: without /20 /30\n",
    "files, times, samples, mean, conf = load_results(f'{results_directory}/timing_{model_spec_size}_model_test/results_mcmc_1_training_{task}', task=task)\n",
    "global_results['mcmc'] = (times/100, samples,mean/20, conf/30) # original: without /20 /30\n"
   ]
  },
  {
   "cell_type": "code",
   "execution_count": 32,
   "metadata": {},
   "outputs": [
    {
     "data": {
      "image/png": "[encoded data removed]",
      "text/plain": [
       "<Figure size 700x400 with 1 Axes>"
      ]
     },
     "metadata": {},
     "output_type": "display_data"
    }
   ],
   "source": [
    "y_min = min([global_results[k][2].min() for k in global_results])\n",
    "y_max = max([global_results[k][2].max() for k in global_results])\n",
    "\n",
    "fig2 = plt.figure(constrained_layout=True, figsize=(7, 4))\n",
    "axes = plt.axes()\n",
    "axes.set_xlim(0, 100)\n",
    "axes.set_ylim(0,3)\n",
    "import scienceplots\n",
    "with plt.style.context(['ieee','notebook']):\n",
    "    for k in global_results:\n",
    "        plot_with_confidence_intervals(plt, global_results[k][1], global_results[k][2], global_results[k][3], label=k)\n",
    "        #plt.plot(global_results_train_steps[k][1], global_results_train_steps[k][0], label=k)\n",
    "    plt.xlabel('Number of revealed data points(n)',fontsize=14)\n",
    "    plt.ylabel('NLLs',fontsize=14)\n",
    "    plt.legend(loc=\"upper right\")\n",
    "    plt.savefig('../test_curves/compare_other_algorithm/bayesian_svi_mcmc.png')\n",
    "    plt.show()"
   ]
  },
  {
   "cell_type": "code",
   "execution_count": null,
   "metadata": {},
   "outputs": [],
   "source": []
  }
 ],
 "metadata": {
  "kernelspec": {
   "display_name": "Python 3 (ipykernel)",
   "language": "python",
   "name": "python3"
  },
  "language_info": {
   "codemirror_mode": {
    "name": "ipython",
    "version": 3
   },
   "file_extension": ".py",
   "mimetype": "text/x-python",
   "name": "python",
   "nbconvert_exporter": "python",
   "pygments_lexer": "ipython3",
   "version": "3.9.16"
  }
 },
 "nbformat": 4,
 "nbformat_minor": 4
}
