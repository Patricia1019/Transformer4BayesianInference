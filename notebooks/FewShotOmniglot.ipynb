{
 "cells": [
  {
   "cell_type": "code",
   "execution_count": 1,
   "id": "976fbfea",
   "metadata": {},
   "outputs": [],
   "source": [
    "import sys\n",
    "sys.path.insert(0,'..')"
   ]
  },
  {
   "cell_type": "code",
   "execution_count": 2,
   "id": "4b164f6b",
   "metadata": {},
   "outputs": [
    {
     "name": "stderr",
     "output_type": "stream",
     "text": [
      "/home/ypq/anaconda3/envs/GD/lib/python3.9/site-packages/torchvision/io/image.py:13: UserWarning: Failed to load image Python extension: /home/ypq/anaconda3/envs/GD/lib/python3.9/site-packages/torchvision/image.so: undefined symbol: _ZN5torch3jit17parseSchemaOrNameERKNSt7__cxx1112basic_stringIcSt11char_traitsIcESaIcEEE\n",
      "  warn(f\"Failed to load image Python extension: {e}\")\n"
     ]
    }
   ],
   "source": [
    "import torch\n",
    "from torch import nn\n",
    "\n",
    "from tqdm import tqdm\n",
    "\n",
    "\n",
    "from train import train, Losses\n",
    "import priors\n",
    "import encoders\n",
    "import positional_encodings\n",
    "import utils\n",
    "import bar_distribution\n"
   ]
  },
  {
   "cell_type": "code",
   "execution_count": 3,
   "id": "628b2717",
   "metadata": {},
   "outputs": [
    {
     "name": "stdout",
     "output_type": "stream",
     "text": [
      "Using cuda:3 device\n",
      "DataLoader.__dict__ {'num_steps': 100, 'fuse_x_y': False, 'get_batch_kwargs': {'batch_size': 1000, 'seq_len': 26, 'num_features': 784, 'num_outputs': 5, 'only_train_for_last_idx': True}, 'num_features': 784, 'num_outputs': 5}\n"
     ]
    },
    {
     "name": "stderr",
     "output_type": "stream",
     "text": [
      "100%|█████████████████████████████████████████████████████████████████████| 1/1 [06:57<00:00, 417.42s/it]\n"
     ]
    }
   ],
   "source": [
    "mykwargs = \\\n",
    "{'extra_prior_kwargs_dict': {'num_features': 28*28, 'fuse_x_y': False, 'num_outputs':5, 'only_train_for_last_idx': True,},\n",
    " 'bptt': 5*5+1,\n",
    "'nlayers': 6,\n",
    " 'dropout': 0.0, 'steps_per_epoch': 100,\n",
    " 'batch_size': 1000}\n",
    "mnist_jobs_5shot_pi_even_longer_running = [\n",
    "    train(priors.stroke.DataLoader, Losses.ce, enc, emsize=emsize, nhead=nhead, warmup_epochs=warmup_epochs, nhid=nhid, y_encoder_generator=encoders.get_Canonical(5), lr=lr, epochs=epochs, single_eval_pos_gen=mykwargs['bptt']-1, **mykwargs)\n",
    "    for enc in [encoders.Linear] for emsize in [1024] for nhead in [4] for nhid in [emsize*2] for warmup_epochs in [5]\n",
    "    for lr in [.0001,]#.00001,.000001]\n",
    "    for epochs in [1,]#64,128,256]\n",
    "    for _ in range(1)]"
   ]
  },
  {
   "cell_type": "code",
   "execution_count": 4,
   "id": "deb93d1e",
   "metadata": {},
   "outputs": [],
   "source": [
    "\n",
    "@torch.inference_mode()\n",
    "def get_acc(finetuned_model, eval_pos, device='cpu', steps=100, train_mode=False, **mykwargs):\n",
    "    finetuned_model.to(device)\n",
    "    finetuned_model.eval()\n",
    "\n",
    "    t_dl = priors.omniglot.DataLoader(steps, batch_size=1000, seq_len=mykwargs['bptt'], train=train_mode,\n",
    "                                      **mykwargs['extra_prior_kwargs_dict'])\n",
    "\n",
    "    ps = []\n",
    "    ys = []\n",
    "    for x, y in tqdm(t_dl):\n",
    "        p = finetuned_model(tuple(e.to(device) for e in x), single_eval_pos=eval_pos)\n",
    "        ps.append(p)\n",
    "        ys.append(y)\n",
    "\n",
    "    ps = torch.cat(ps, 1)\n",
    "    ys = torch.cat(ys, 1)\n",
    "\n",
    "    def acc(ps, ys):\n",
    "        return (ps.argmax(-1) == ys.to(ps.device)).float().mean()\n",
    "\n",
    "    a = acc(ps[eval_pos], ys[eval_pos]).cpu()\n",
    "    print(a.item())\n",
    "    return a\n",
    "\n",
    "\n",
    "def train_and_eval(*args, **kwargs):\n",
    "    r = train(*args, **kwargs)\n",
    "    model = r[-1]\n",
    "    acc = get_acc(model, -1, device='cuda:0', **kwargs).cpu()\n",
    "    model.to('cpu')\n",
    "    return [acc]\n",
    "\n",
    "def pretrain_and_eval(extra_prior_kwargs_dict_eval,*args, **kwargs):\n",
    "    r = train(*args, **kwargs)\n",
    "    model = r[-1]\n",
    "    kwargs['extra_prior_kwargs_dict'] = extra_prior_kwargs_dict_eval\n",
    "    acc = get_acc(model, -1, device='cuda:0', **kwargs).cpu()\n",
    "    model.to('cpu')\n",
    "    return r, acc"
   ]
  },
  {
   "cell_type": "code",
   "execution_count": 5,
   "id": "1c49b7e1",
   "metadata": {},
   "outputs": [],
   "source": [
    "pretrained_model = mnist_jobs_5shot_pi_even_longer_running[0][-1]"
   ]
  },
  {
   "cell_type": "code",
   "execution_count": 6,
   "id": "706ecbb7",
   "metadata": {},
   "outputs": [
    {
     "name": "stdout",
     "output_type": "stream",
     "text": [
      "Using cuda:3 device\n",
      "== Downloading https://github.com/brendenlake/omniglot/raw/master/python/images_background.zip\n",
      "== Unzip from omniglot/raw/images_background.zip to omniglot/processed\n",
      "== Downloading https://github.com/brendenlake/omniglot/raw/master/python/images_evaluation.zip\n",
      "== Unzip from omniglot/raw/images_evaluation.zip to omniglot/processed\n",
      "Download finished.\n",
      "== Found 32460 items \n",
      "== Found 1623 classes\n"
     ]
    },
    {
     "name": "stderr",
     "output_type": "stream",
     "text": [
      " 28%|██████████████████▌                                               | 9/32 [39:26<1:41:18, 264.30s/it]"
     ]
    },
    {
     "name": "stdout",
     "output_type": "stream",
     "text": [
      "== Found 32460 items \n",
      "== Found 1623 classes\n",
      "data shape: (1623, 20, 1, 28, 28)\n",
      "DB: train (1200, 20, 1, 28, 28) test (423, 20, 1, 28, 28)\n"
     ]
    },
    {
     "name": "stderr",
     "output_type": "stream",
     "text": [
      "\r",
      " 31%|████████████████████▎                                            | 10/32 [43:49<1:36:52, 264.20s/it]"
     ]
    },
    {
     "name": "stdout",
     "output_type": "stream",
     "text": [
      "-----------------------------------------------------------------------------------------\n",
      "| end of epoch  10 | time: 263.96s | mean loss  1.62 |  lr 9e-06 data time  1.20 step time  0.03 forward time  0.00val score 0.1992499977350235\n",
      "-----------------------------------------------------------------------------------------\n"
     ]
    },
    {
     "name": "stderr",
     "output_type": "stream",
     "text": [
      " 62%|████████████████████████████████████████▋                        | 20/32 [1:25:45<50:56, 254.67s/it]"
     ]
    },
    {
     "name": "stdout",
     "output_type": "stream",
     "text": [
      "-----------------------------------------------------------------------------------------\n",
      "| end of epoch  20 | time: 260.84s | mean loss  1.61 |  lr 6.408662784207149e-06 data time  1.18 step time  0.03 forward time  0.00val score 0.19624999165534973\n",
      "-----------------------------------------------------------------------------------------\n"
     ]
    },
    {
     "name": "stderr",
     "output_type": "stream",
     "text": [
      " 94%|████████████████████████████████████████████████████████████▉    | 30/32 [2:07:32<08:23, 251.97s/it]"
     ]
    },
    {
     "name": "stdout",
     "output_type": "stream",
     "text": [
      "-----------------------------------------------------------------------------------------\n",
      "| end of epoch  30 | time: 256.70s | mean loss  1.61 |  lr 4.5184002322740784e-07 data time  1.20 step time  0.04 forward time  0.01val score 0.20125000178813934\n",
      "-----------------------------------------------------------------------------------------\n"
     ]
    },
    {
     "name": "stderr",
     "output_type": "stream",
     "text": [
      "100%|█████████████████████████████████████████████████████████████████| 32/32 [2:15:50<00:00, 254.72s/it]\n"
     ]
    },
    {
     "name": "stdout",
     "output_type": "stream",
     "text": [
      "== Found 32460 items \n",
      "== Found 1623 classes\n"
     ]
    },
    {
     "name": "stderr",
     "output_type": "stream",
     "text": [
      "100%|██████████████████████████████████████████████████████████████████| 100/100 [08:32<00:00,  5.13s/it]\n"
     ]
    },
    {
     "name": "stdout",
     "output_type": "stream",
     "text": [
      "0.19832000136375427\n"
     ]
    }
   ],
   "source": [
    "\n",
    "emsize = 1024\n",
    "# mnist_jobs_5shot_pi[20].result()[-1].state_dict()\n",
    "mykwargs = \\\n",
    "    {'bptt': 5 * 5 + 1,\n",
    "     'nlayers': 6,\n",
    "     'nhead': 4, 'emsize': emsize,\n",
    "     'encoder_generator': encoders.Linear, 'nhid': emsize * 2}\n",
    "results = train_and_eval(priors.omniglot.DataLoader, Losses.ce, y_encoder_generator=encoders.get_Canonical(5),\n",
    "                   load_weights_from_this_state_dict=pretrained_model.state_dict(), epochs=32, lr=.00001, dropout=0.,\n",
    "                   single_eval_pos_gen=mykwargs['bptt'] - 1,\n",
    "                   extra_prior_kwargs_dict={'num_features': 28 * 28, 'fuse_x_y': False, 'num_outputs': 5,\n",
    "                                            'translations': True, 'jonas_style': True},\n",
    "                   batch_size=100, steps_per_epoch=200, **mykwargs)\n",
    "\n"
   ]
  },
  {
   "cell_type": "code",
   "execution_count": 7,
   "id": "309a6f4c",
   "metadata": {},
   "outputs": [
    {
     "data": {
      "text/plain": [
       "[tensor(0.1983)]"
      ]
     },
     "execution_count": 7,
     "metadata": {},
     "output_type": "execute_result"
    }
   ],
   "source": [
    "results"
   ]
  },
  {
   "cell_type": "code",
   "execution_count": 9,
   "id": "611554b2",
   "metadata": {},
   "outputs": [
    {
     "ename": "TypeError",
     "evalue": "to() received an invalid combination of arguments - got (dict), but expected one of:\n * (torch.device device, torch.dtype dtype, bool non_blocking, bool copy, *, torch.memory_format memory_format)\n * (torch.dtype dtype, bool non_blocking, bool copy, *, torch.memory_format memory_format)\n * (Tensor tensor, bool non_blocking, bool copy, *, torch.memory_format memory_format)\n",
     "output_type": "error",
     "traceback": [
      "\u001b[0;31m---------------------------------------------------------------------------\u001b[0m",
      "\u001b[0;31mTypeError\u001b[0m                                 Traceback (most recent call last)",
      "Cell \u001b[0;32mIn[9], line 1\u001b[0m\n\u001b[0;32m----> 1\u001b[0m \u001b[43mget_acc\u001b[49m\u001b[43m(\u001b[49m\u001b[43mpretrained_model\u001b[49m\u001b[43m,\u001b[49m\u001b[38;5;241;43m0\u001b[39;49m\u001b[43m,\u001b[49m\u001b[43mmykwargs\u001b[49m\u001b[43m)\u001b[49m\n",
      "File \u001b[0;32m~/anaconda3/envs/GD/lib/python3.9/site-packages/torch/autograd/grad_mode.py:27\u001b[0m, in \u001b[0;36m_DecoratorContextManager.__call__.<locals>.decorate_context\u001b[0;34m(*args, **kwargs)\u001b[0m\n\u001b[1;32m     24\u001b[0m \u001b[38;5;129m@functools\u001b[39m\u001b[38;5;241m.\u001b[39mwraps(func)\n\u001b[1;32m     25\u001b[0m \u001b[38;5;28;01mdef\u001b[39;00m \u001b[38;5;21mdecorate_context\u001b[39m(\u001b[38;5;241m*\u001b[39margs, \u001b[38;5;241m*\u001b[39m\u001b[38;5;241m*\u001b[39mkwargs):\n\u001b[1;32m     26\u001b[0m     \u001b[38;5;28;01mwith\u001b[39;00m \u001b[38;5;28mself\u001b[39m\u001b[38;5;241m.\u001b[39mclone():\n\u001b[0;32m---> 27\u001b[0m         \u001b[38;5;28;01mreturn\u001b[39;00m \u001b[43mfunc\u001b[49m\u001b[43m(\u001b[49m\u001b[38;5;241;43m*\u001b[39;49m\u001b[43margs\u001b[49m\u001b[43m,\u001b[49m\u001b[43m \u001b[49m\u001b[38;5;241;43m*\u001b[39;49m\u001b[38;5;241;43m*\u001b[39;49m\u001b[43mkwargs\u001b[49m\u001b[43m)\u001b[49m\n",
      "Cell \u001b[0;32mIn[4], line 3\u001b[0m, in \u001b[0;36mget_acc\u001b[0;34m(finetuned_model, eval_pos, device, steps, train_mode, **mykwargs)\u001b[0m\n\u001b[1;32m      1\u001b[0m \u001b[38;5;129m@torch\u001b[39m\u001b[38;5;241m.\u001b[39minference_mode()\n\u001b[1;32m      2\u001b[0m \u001b[38;5;28;01mdef\u001b[39;00m \u001b[38;5;21mget_acc\u001b[39m(finetuned_model, eval_pos, device\u001b[38;5;241m=\u001b[39m\u001b[38;5;124m'\u001b[39m\u001b[38;5;124mcpu\u001b[39m\u001b[38;5;124m'\u001b[39m, steps\u001b[38;5;241m=\u001b[39m\u001b[38;5;241m100\u001b[39m, train_mode\u001b[38;5;241m=\u001b[39m\u001b[38;5;28;01mFalse\u001b[39;00m, \u001b[38;5;241m*\u001b[39m\u001b[38;5;241m*\u001b[39mmykwargs):\n\u001b[0;32m----> 3\u001b[0m     \u001b[43mfinetuned_model\u001b[49m\u001b[38;5;241;43m.\u001b[39;49m\u001b[43mto\u001b[49m\u001b[43m(\u001b[49m\u001b[43mdevice\u001b[49m\u001b[43m)\u001b[49m\n\u001b[1;32m      4\u001b[0m     finetuned_model\u001b[38;5;241m.\u001b[39meval()\n\u001b[1;32m      6\u001b[0m     t_dl \u001b[38;5;241m=\u001b[39m priors\u001b[38;5;241m.\u001b[39momniglot\u001b[38;5;241m.\u001b[39mDataLoader(steps, batch_size\u001b[38;5;241m=\u001b[39m\u001b[38;5;241m1000\u001b[39m, seq_len\u001b[38;5;241m=\u001b[39mmykwargs[\u001b[38;5;124m'\u001b[39m\u001b[38;5;124mbptt\u001b[39m\u001b[38;5;124m'\u001b[39m], train\u001b[38;5;241m=\u001b[39mtrain_mode,\n\u001b[1;32m      7\u001b[0m                                       \u001b[38;5;241m*\u001b[39m\u001b[38;5;241m*\u001b[39mmykwargs[\u001b[38;5;124m'\u001b[39m\u001b[38;5;124mextra_prior_kwargs_dict\u001b[39m\u001b[38;5;124m'\u001b[39m])\n",
      "File \u001b[0;32m~/anaconda3/envs/GD/lib/python3.9/site-packages/torch/nn/modules/module.py:888\u001b[0m, in \u001b[0;36mModule.to\u001b[0;34m(self, *args, **kwargs)\u001b[0m\n\u001b[1;32m    803\u001b[0m \u001b[38;5;28;01mdef\u001b[39;00m \u001b[38;5;21mto\u001b[39m(\u001b[38;5;28mself\u001b[39m, \u001b[38;5;241m*\u001b[39margs, \u001b[38;5;241m*\u001b[39m\u001b[38;5;241m*\u001b[39mkwargs):\n\u001b[1;32m    804\u001b[0m \u001b[38;5;250m    \u001b[39m\u001b[38;5;124mr\u001b[39m\u001b[38;5;124;03m\"\"\"Moves and/or casts the parameters and buffers.\u001b[39;00m\n\u001b[1;32m    805\u001b[0m \n\u001b[1;32m    806\u001b[0m \u001b[38;5;124;03m    This can be called as\u001b[39;00m\n\u001b[0;32m   (...)\u001b[0m\n\u001b[1;32m    885\u001b[0m \n\u001b[1;32m    886\u001b[0m \u001b[38;5;124;03m    \"\"\"\u001b[39;00m\n\u001b[0;32m--> 888\u001b[0m     device, dtype, non_blocking, convert_to_format \u001b[38;5;241m=\u001b[39m \u001b[43mtorch\u001b[49m\u001b[38;5;241;43m.\u001b[39;49m\u001b[43m_C\u001b[49m\u001b[38;5;241;43m.\u001b[39;49m\u001b[43m_nn\u001b[49m\u001b[38;5;241;43m.\u001b[39;49m\u001b[43m_parse_to\u001b[49m\u001b[43m(\u001b[49m\u001b[38;5;241;43m*\u001b[39;49m\u001b[43margs\u001b[49m\u001b[43m,\u001b[49m\u001b[43m \u001b[49m\u001b[38;5;241;43m*\u001b[39;49m\u001b[38;5;241;43m*\u001b[39;49m\u001b[43mkwargs\u001b[49m\u001b[43m)\u001b[49m\n\u001b[1;32m    890\u001b[0m     \u001b[38;5;28;01mif\u001b[39;00m dtype \u001b[38;5;129;01mis\u001b[39;00m \u001b[38;5;129;01mnot\u001b[39;00m \u001b[38;5;28;01mNone\u001b[39;00m:\n\u001b[1;32m    891\u001b[0m         \u001b[38;5;28;01mif\u001b[39;00m \u001b[38;5;129;01mnot\u001b[39;00m (dtype\u001b[38;5;241m.\u001b[39mis_floating_point \u001b[38;5;129;01mor\u001b[39;00m dtype\u001b[38;5;241m.\u001b[39mis_complex):\n",
      "\u001b[0;31mTypeError\u001b[0m: to() received an invalid combination of arguments - got (dict), but expected one of:\n * (torch.device device, torch.dtype dtype, bool non_blocking, bool copy, *, torch.memory_format memory_format)\n * (torch.dtype dtype, bool non_blocking, bool copy, *, torch.memory_format memory_format)\n * (Tensor tensor, bool non_blocking, bool copy, *, torch.memory_format memory_format)\n"
     ]
    }
   ],
   "source": [
    "get_acc(pretrained_model,0,mykwargs)"
   ]
  },
  {
   "cell_type": "code",
   "execution_count": null,
   "id": "f7cacc20",
   "metadata": {},
   "outputs": [],
   "source": []
  }
 ],
 "metadata": {
  "kernelspec": {
   "display_name": "Python 3 (ipykernel)",
   "language": "python",
   "name": "python3"
  },
  "language_info": {
   "codemirror_mode": {
    "name": "ipython",
    "version": 3
   },
   "file_extension": ".py",
   "mimetype": "text/x-python",
   "name": "python",
   "nbconvert_exporter": "python",
   "pygments_lexer": "ipython3",
   "version": "3.9.16"
  }
 },
 "nbformat": 4,
 "nbformat_minor": 5
}
